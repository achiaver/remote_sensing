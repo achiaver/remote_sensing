{
 "cells": [
  {
   "cell_type": "code",
   "execution_count": 1,
   "metadata": {},
   "outputs": [],
   "source": [
    "import numpy as np\n",
    "import scipy.io as sio\n",
    "import cv2 as cv\n",
    "\n",
    "import matplotlib as mlt\n",
    "import matplotlib.pyplot as plt"
   ]
  },
  {
   "cell_type": "code",
   "execution_count": 121,
   "metadata": {},
   "outputs": [],
   "source": [
    "path_indian_pines = '../MCRF_LVC/Data/Indian_Pines/'\n",
    "path_paviauniversity = '../MCRF_LVC/Data/PaviaUniversity/'"
   ]
  },
  {
   "cell_type": "code",
   "execution_count": 122,
   "metadata": {},
   "outputs": [],
   "source": [
    "indian_train = cv.imread(path_indian_pines + 'RawData/Train.bmp', -1)"
   ]
  },
  {
   "cell_type": "code",
   "execution_count": 123,
   "metadata": {
    "scrolled": false
   },
   "outputs": [
    {
     "data": {
      "image/png": "[encoded data removed]",
      "text/plain": [
       "<Figure size 1080x504 with 1 Axes>"
      ]
     },
     "metadata": {},
     "output_type": "display_data"
    }
   ],
   "source": [
    "fig = plt.figure(figsize = (15, 7))\n",
    "\n",
    "ax = fig.add_subplot(1, 1, 1)\n",
    "ax.imshow(indian_train)\n",
    "plt.xticks([])\n",
    "plt.yticks([])\n",
    "\n",
    "plt.show()"
   ]
  },
  {
   "cell_type": "markdown",
   "metadata": {},
   "source": [
    "-------\n",
    "\n",
    "# Functions Setup"
   ]
  },
  {
   "cell_type": "code",
   "execution_count": 5,
   "metadata": {},
   "outputs": [],
   "source": [
    "def img2double(img):\n",
    "    return np.asarray(img).astype(np.float64)/np.max(np.asarray(img))"
   ]
  },
  {
   "cell_type": "code",
   "execution_count": 6,
   "metadata": {},
   "outputs": [],
   "source": [
    "def create_index_matrix(img):\n",
    "    m, n = img.shape\n",
    "    index_matrix = np.zeros((m, n))\n",
    "    ind = 1\n",
    "    \n",
    "    for j in range(n):\n",
    "        for i in range(m):\n",
    "            if img[i, j] > 0:\n",
    "                index_matrix[i , j] = ind\n",
    "                ind += 1\n",
    "            else:\n",
    "                index_matrix[i, j] = -1\n",
    "    \n",
    "    return index_matrix, ind\n",
    "    \n",
    "    "
   ]
  },
  {
   "cell_type": "code",
   "execution_count": 7,
   "metadata": {},
   "outputs": [],
   "source": [
    "def create_spatial_connectivity(img):\n",
    "    m, n = cv.cvtColor(img, cv.COLOR_BGR2GRAY).shape\n",
    "    index_matrix, ind = create_index_matrix(cv.cvtColor(img, cv.COLOR_BGR2GRAY))\n",
    "    \n",
    "    spatial_connectivity = np.zeros((3, ind - 1))\n",
    "    \n",
    "    for i in range(m):\n",
    "        for j in range(n):\n",
    "            if i-1 <= 0:\n",
    "                spatial_connectivity[1, np.int(index_matrix[i,j]-1)] = -1\n",
    "                spatial_connectivity[2, np.int(index_matrix[i,j]-1)] = -1\n",
    "            else:\n",
    "                spatial_connectivity[1, np.int(index_matrix[i,j]-1)] = index_matrix[i-1,j]\n",
    "            \n",
    "            if j-1 <= 0:\n",
    "                spatial_connectivity[0, np.int(index_matrix[i,j]-1)] = -1\n",
    "                spatial_connectivity[2, np.int(index_matrix[i,j]-1)] = -1\n",
    "            else:\n",
    "                spatial_connectivity[0, np.int(index_matrix[i,j]-1)] = index_matrix[i, j-1]\n",
    "                \n",
    "            if (i-1 > 0) and (j-1 > 0):\n",
    "                spatial_connectivity[2, np.int(index_matrix[i,j]-1)] = index_matrix[i-1, j-1]\n",
    "                \n",
    "    return spatial_connectivity"
   ]
  },
  {
   "cell_type": "code",
   "execution_count": 8,
   "metadata": {},
   "outputs": [],
   "source": [
    "def create_bin_file(data, filename):\n",
    "    with open(filename + '.bin', 'wb') as f:\n",
    "#         f.write(data)\n",
    "        data.tofile(f)\n",
    "    f.close()\n",
    "            \n",
    "    return '--- Bin File created ---'"
   ]
  },
  {
   "cell_type": "code",
   "execution_count": 9,
   "metadata": {},
   "outputs": [],
   "source": [
    "spatial_connectivity = create_spatial_connectivity(indian_train)"
   ]
  },
  {
   "cell_type": "code",
   "execution_count": 10,
   "metadata": {},
   "outputs": [
    {
     "data": {
      "text/plain": [
       "'--- Bin File created ---'"
      ]
     },
     "execution_count": 10,
     "metadata": {},
     "output_type": "execute_result"
    }
   ],
   "source": [
    "create_bin_file(spatial_connectivity, '01_SpatialConnectivity1')"
   ]
  },
  {
   "cell_type": "code",
   "execution_count": 11,
   "metadata": {},
   "outputs": [],
   "source": [
    "indian = sio.loadmat(path_indian_pines + '/RawData/Image.mat')"
   ]
  },
  {
   "cell_type": "code",
   "execution_count": 124,
   "metadata": {},
   "outputs": [],
   "source": [
    "indian_img = indian['Data']"
   ]
  },
  {
   "cell_type": "code",
   "execution_count": 125,
   "metadata": {},
   "outputs": [
    {
     "data": {
      "text/plain": [
       "(145, 145, 200)"
      ]
     },
     "execution_count": 125,
     "metadata": {},
     "output_type": "execute_result"
    }
   ],
   "source": [
    "indian_img.shape"
   ]
  },
  {
   "cell_type": "markdown",
   "metadata": {},
   "source": [
    "# PCA"
   ]
  },
  {
   "cell_type": "code",
   "execution_count": 113,
   "metadata": {},
   "outputs": [],
   "source": [
    "def normalize(mat):\n",
    "    mat -= np.min(mat)\n",
    "    mat /= np.ptp(mat)\n",
    "    return mat"
   ]
  },
  {
   "cell_type": "code",
   "execution_count": 127,
   "metadata": {},
   "outputs": [],
   "source": [
    "def img_pca(img):\n",
    "    m, n, l = img.shape\n",
    "    img = img.reshape(-1, l)\n",
    "    \n",
    "    img = img2double(img)\n",
    "    img_cov = np.cov(img.T)\n",
    "    \n",
    "    img_std = np.transpose([np.sqrt(np.diag(img_cov))])\n",
    "    img_std = std @ std.T\n",
    "    img_cov = img_cov / img_std\n",
    "    \n",
    "    eigen_values, eigen_vectors = np.linalg.eig(img_cov)\n",
    "    \n",
    "    select_dim = np.where(eigen_values >= 1)\n",
    "    \n",
    "    y = (eigen_vectors @ img.T).T\n",
    "    y = y[:,select_dim[0]]\n",
    "    \n",
    "    y = normalize(y.T).astype(np.uint16)\n",
    "    \n",
    "    return y\n",
    "    "
   ]
  },
  {
   "cell_type": "code",
   "execution_count": 131,
   "metadata": {},
   "outputs": [],
   "source": [
    "indian_img_pca = img_pca(indian_img)"
   ]
  },
  {
   "cell_type": "code",
   "execution_count": 132,
   "metadata": {},
   "outputs": [
    {
     "data": {
      "text/plain": [
       "(13, 21025)"
      ]
     },
     "execution_count": 132,
     "metadata": {},
     "output_type": "execute_result"
    }
   ],
   "source": [
    "indian_img_pca.shape"
   ]
  },
  {
   "cell_type": "code",
   "execution_count": 143,
   "metadata": {},
   "outputs": [
    {
     "data": {
      "text/plain": [
       "'--- Bin File created ---'"
      ]
     },
     "execution_count": 143,
     "metadata": {},
     "output_type": "execute_result"
    }
   ],
   "source": [
    "create_bin_file(indian_img_pca, '01_30_{}_Features2'.format(indian_img_pca.shape[0]))"
   ]
  },
  {
   "cell_type": "code",
   "execution_count": null,
   "metadata": {},
   "outputs": [],
   "source": []
  }
 ],
 "metadata": {
  "celltoolbar": "Tags",
  "kernelspec": {
   "display_name": "Python 3",
   "language": "python",
   "name": "python3"
  },
  "language_info": {
   "codemirror_mode": {
    "name": "ipython",
    "version": 3
   },
   "file_extension": ".py",
   "mimetype": "text/x-python",
   "name": "python",
   "nbconvert_exporter": "python",
   "pygments_lexer": "ipython3",
   "version": "3.7.1"
  },
  "latex_envs": {
   "LaTeX_envs_menu_present": true,
   "autoclose": true,
   "autocomplete": true,
   "bibliofile": "biblio.bib",
   "cite_by": "apalike",
   "current_citInitial": 1,
   "eqLabelWithNumbers": true,
   "eqNumInitial": 1,
   "hotkeys": {
    "equation": "Ctrl-E",
    "itemize": "Ctrl-I"
   },
   "labels_anchors": false,
   "latex_user_defs": false,
   "report_style_numbering": false,
   "user_envs_cfg": false
  }
 },
 "nbformat": 4,
 "nbformat_minor": 2
}
