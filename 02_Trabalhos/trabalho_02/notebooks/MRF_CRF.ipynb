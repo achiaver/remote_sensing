{
 "cells": [
  {
   "cell_type": "code",
   "execution_count": 147,
   "metadata": {},
   "outputs": [],
   "source": [
    "import numpy as np\n",
    "import scipy.io as sio\n",
    "import cv2 as cv\n",
    "\n",
    "import matplotlib as mlt\n",
    "import matplotlib.pyplot as plt\n",
    "\n",
    "import yaml\n",
    "import subprocess"
   ]
  },
  {
   "cell_type": "code",
   "execution_count": 2,
   "metadata": {},
   "outputs": [],
   "source": [
    "path_indian_pines = '../MCRF_LVC/Data/Indian_Pines/'\n",
    "path_paviauniversity = '../MCRF_LVC/Data/PaviaUniversity/'"
   ]
  },
  {
   "cell_type": "code",
   "execution_count": 43,
   "metadata": {},
   "outputs": [],
   "source": [
    "filename_indian = 'Indian_Pines'\n",
    "filename_pavia = 'Pavia_University'"
   ]
  },
  {
   "cell_type": "code",
   "execution_count": 3,
   "metadata": {},
   "outputs": [],
   "source": [
    "indian = sio.loadmat(path_indian_pines + '/RawData/Image.mat')"
   ]
  },
  {
   "cell_type": "code",
   "execution_count": 122,
   "metadata": {},
   "outputs": [],
   "source": [
    "indian_train = cv.imread(path_indian_pines + 'RawData/Train.bmp', 1)\n",
    "indian_test = cv.imread(path_indian_pines + 'RawData/Test.bmp', 1)"
   ]
  },
  {
   "cell_type": "code",
   "execution_count": 5,
   "metadata": {},
   "outputs": [],
   "source": [
    "indian_img = indian['Data']"
   ]
  },
  {
   "cell_type": "code",
   "execution_count": 131,
   "metadata": {
    "scrolled": false
   },
   "outputs": [
    {
     "data": {
      "image/png": "[encoded data removed]",
      "text/plain": [
       "<Figure size 1080x504 with 2 Axes>"
      ]
     },
     "metadata": {},
     "output_type": "display_data"
    }
   ],
   "source": [
    "fig = plt.figure(figsize = (15, 7))\n",
    "\n",
    "ax = fig.add_subplot(1, 2, 1)\n",
    "ax.imshow(indian_train)\n",
    "plt.title('Indian - Train Dataset')\n",
    "plt.xticks([])\n",
    "plt.yticks([])\n",
    "\n",
    "ax = fig.add_subplot(1, 2, 2)\n",
    "ax.imshow(indian_test)\n",
    "plt.title('Indian - Test Dataset')\n",
    "plt.xticks([])\n",
    "plt.yticks([])\n",
    "\n",
    "plt.show()"
   ]
  },
  {
   "cell_type": "markdown",
   "metadata": {},
   "source": [
    "-------\n",
    "\n",
    "# Functions Setup"
   ]
  },
  {
   "cell_type": "code",
   "execution_count": 8,
   "metadata": {},
   "outputs": [],
   "source": [
    "def img2double(img):\n",
    "    return np.asarray(img).astype(np.float64)/np.max(np.asarray(img))"
   ]
  },
  {
   "cell_type": "code",
   "execution_count": 9,
   "metadata": {},
   "outputs": [],
   "source": [
    "def create_index_matrix(img):\n",
    "    m, n = img.shape\n",
    "    index_matrix = np.zeros((m, n))\n",
    "    ind = 1\n",
    "    \n",
    "    for j in range(n):\n",
    "        for i in range(m):\n",
    "            if img[i, j] > 0:\n",
    "                index_matrix[i , j] = ind\n",
    "                ind += 1\n",
    "            else:\n",
    "                index_matrix[i, j] = -1\n",
    "    \n",
    "    return index_matrix, ind\n",
    "    \n",
    "    "
   ]
  },
  {
   "cell_type": "code",
   "execution_count": 10,
   "metadata": {},
   "outputs": [],
   "source": [
    "def create_spatial_connectivity(img):\n",
    "    m, n = cv.cvtColor(img, cv.COLOR_BGR2GRAY).shape\n",
    "    index_matrix, ind = create_index_matrix(cv.cvtColor(img, cv.COLOR_BGR2GRAY))\n",
    "    \n",
    "    spatial_connectivity = np.zeros((3, ind - 1))\n",
    "    \n",
    "    for i in range(m):\n",
    "        for j in range(n):\n",
    "            if i-1 <= 0:\n",
    "                spatial_connectivity[1, np.int(index_matrix[i,j]-1)] = -1\n",
    "                spatial_connectivity[2, np.int(index_matrix[i,j]-1)] = -1\n",
    "            else:\n",
    "                spatial_connectivity[1, np.int(index_matrix[i,j]-1)] = index_matrix[i-1,j]\n",
    "            \n",
    "            if j-1 <= 0:\n",
    "                spatial_connectivity[0, np.int(index_matrix[i,j]-1)] = -1\n",
    "                spatial_connectivity[2, np.int(index_matrix[i,j]-1)] = -1\n",
    "            else:\n",
    "                spatial_connectivity[0, np.int(index_matrix[i,j]-1)] = index_matrix[i, j-1]\n",
    "                \n",
    "            if (i-1 > 0) and (j-1 > 0):\n",
    "                spatial_connectivity[2, np.int(index_matrix[i,j]-1)] = index_matrix[i-1, j-1]\n",
    "                \n",
    "    return spatial_connectivity"
   ]
  },
  {
   "cell_type": "code",
   "execution_count": 11,
   "metadata": {},
   "outputs": [],
   "source": [
    "def create_bin_file(data, filename):\n",
    "    with open(filename + '.bin', 'wb') as f:\n",
    "#         f.write(data)\n",
    "        data.tofile(f)\n",
    "    f.close()\n",
    "            \n",
    "    return '--- Bin File created ---'"
   ]
  },
  {
   "cell_type": "code",
   "execution_count": 12,
   "metadata": {},
   "outputs": [],
   "source": [
    "def normalize(mat):\n",
    "    mat -= np.min(mat)\n",
    "    mat /= np.ptp(mat)\n",
    "    return mat"
   ]
  },
  {
   "cell_type": "code",
   "execution_count": 13,
   "metadata": {},
   "outputs": [],
   "source": [
    "def select_features(img, kind = ''):\n",
    "    if kind == 'pca':\n",
    "        return img_pca(img)\n",
    "    else:\n",
    "        return img_fullfeatures(img)"
   ]
  },
  {
   "cell_type": "code",
   "execution_count": 55,
   "metadata": {},
   "outputs": [],
   "source": [
    "def img_reshape(img):\n",
    "    if len(img.shape) == 3:\n",
    "        m, n, l = img.shape\n",
    "        return img.reshape(-1, l)\n",
    "    else:\n",
    "        m, n = img.shape\n",
    "        return img.reshape(m * n, 1)"
   ]
  },
  {
   "cell_type": "code",
   "execution_count": 53,
   "metadata": {},
   "outputs": [],
   "source": [
    "def img_fullfeatures(img):\n",
    "    img = img_reshape(img).astype(np.float32)   \n",
    "    return img2double(img).T"
   ]
  },
  {
   "cell_type": "code",
   "execution_count": 54,
   "metadata": {},
   "outputs": [],
   "source": [
    "def img_pca(img):\n",
    "    img = img_reshape(img)\n",
    "    \n",
    "    img = img2double(img)\n",
    "    img_cov = np.cov(img.T)\n",
    "    \n",
    "    img_std = np.transpose([np.sqrt(np.diag(img_cov))])\n",
    "    img_std = img_std @ img_std.T\n",
    "    img_cov = img_cov / img_std\n",
    "    \n",
    "    eigen_values, eigen_vectors = np.linalg.eig(img_cov)\n",
    "    \n",
    "    select_dim = np.where(eigen_values >= 1)\n",
    "    \n",
    "    y = (eigen_vectors @ img.T).T\n",
    "    y = y[:,select_dim[0]]\n",
    "    \n",
    "    y = normalize(y.T).astype(np.float32)\n",
    "    \n",
    "    return y    "
   ]
  },
  {
   "cell_type": "code",
   "execution_count": 89,
   "metadata": {},
   "outputs": [],
   "source": [
    "def img_labels(img):\n",
    "    if len(img.shape) == 3:\n",
    "        img = cv.cvtColor(img, cv.COLOR_BGR2GRAY)\n",
    "    \n",
    "    for i in range(np.unique(img).shape[0]):\n",
    "        img[img == np.unique(img)[i]] = i\n",
    "    \n",
    "    return img_reshape(img).astype(np.float32)"
   ]
  },
  {
   "cell_type": "markdown",
   "metadata": {},
   "source": [
    "-------\n",
    "\n",
    "# Spatial Connectivity"
   ]
  },
  {
   "cell_type": "code",
   "execution_count": 44,
   "metadata": {},
   "outputs": [],
   "source": [
    "indian_spatial_connectivity = create_spatial_connectivity(indian_train)"
   ]
  },
  {
   "cell_type": "code",
   "execution_count": 45,
   "metadata": {},
   "outputs": [
    {
     "data": {
      "text/plain": [
       "'--- Bin File created ---'"
      ]
     },
     "execution_count": 45,
     "metadata": {},
     "output_type": "execute_result"
    }
   ],
   "source": [
    "create_bin_file(indian_spatial_connectivity, path_indian_pines + '/Connectivity_Spatial/01_' + filename_indian + '1')"
   ]
  },
  {
   "cell_type": "markdown",
   "metadata": {},
   "source": [
    "-------\n",
    "\n",
    "# Features"
   ]
  },
  {
   "cell_type": "code",
   "execution_count": 57,
   "metadata": {},
   "outputs": [
    {
     "data": {
      "text/plain": [
       "(6, 21025)"
      ]
     },
     "execution_count": 57,
     "metadata": {},
     "output_type": "execute_result"
    }
   ],
   "source": [
    "indian_img_pca = select_features(indian_img, 'pca')\n",
    "indian_img_pca.shape"
   ]
  },
  {
   "cell_type": "code",
   "execution_count": 58,
   "metadata": {},
   "outputs": [
    {
     "data": {
      "text/plain": [
       "(200, 21025)"
      ]
     },
     "execution_count": 58,
     "metadata": {},
     "output_type": "execute_result"
    }
   ],
   "source": [
    "indian_img_features = select_features(indian_img)\n",
    "indian_img_features.shape"
   ]
  },
  {
   "cell_type": "code",
   "execution_count": 47,
   "metadata": {},
   "outputs": [
    {
     "data": {
      "text/plain": [
       "'--- Bin File created ---'"
      ]
     },
     "execution_count": 47,
     "metadata": {},
     "output_type": "execute_result"
    }
   ],
   "source": [
    "create_bin_file(indian_img_features, path_indian_pines + '/Features/01_30_{}_{}2'.format(indian_img_features.shape[0], filename_indian))"
   ]
  },
  {
   "cell_type": "markdown",
   "metadata": {},
   "source": [
    "-------\n",
    "\n",
    "# Labels"
   ]
  },
  {
   "cell_type": "code",
   "execution_count": 92,
   "metadata": {
    "scrolled": true
   },
   "outputs": [],
   "source": [
    "indian_labels = img_labels(indian_train)"
   ]
  },
  {
   "cell_type": "code",
   "execution_count": 95,
   "metadata": {},
   "outputs": [
    {
     "data": {
      "text/plain": [
       "'--- Bin File created ---'"
      ]
     },
     "execution_count": 95,
     "metadata": {},
     "output_type": "execute_result"
    }
   ],
   "source": [
    "create_bin_file(indian_labels, path_indian_pines + '/Labels/01_30_{}_{}3'.format(len(np.unique(indian_labels)), filename_indian))"
   ]
  },
  {
   "cell_type": "markdown",
   "metadata": {},
   "source": [
    "-------\n",
    "\n",
    "# Train Test Mask"
   ]
  },
  {
   "cell_type": "code",
   "execution_count": 123,
   "metadata": {},
   "outputs": [],
   "source": [
    "indian_train_mask = cv.cvtColor(indian_train, cv.COLOR_BGR2GRAY)\n",
    "indian_test_mask = cv.cvtColor(indian_test, cv.COLOR_BGR2GRAY)"
   ]
  },
  {
   "cell_type": "code",
   "execution_count": 124,
   "metadata": {},
   "outputs": [],
   "source": [
    "indian_train_mask[indian_train_mask > 0] = 1\n",
    "indian_test_mask[indian_test_mask > 0] = 2"
   ]
  },
  {
   "cell_type": "code",
   "execution_count": 128,
   "metadata": {},
   "outputs": [],
   "source": [
    "indian_mask = indian_train_mask + indian_test_mask"
   ]
  },
  {
   "cell_type": "code",
   "execution_count": 134,
   "metadata": {},
   "outputs": [],
   "source": [
    "indian_mask = img_reshape(indian_mask).astype(np.float32)"
   ]
  },
  {
   "cell_type": "code",
   "execution_count": 137,
   "metadata": {},
   "outputs": [
    {
     "data": {
      "text/plain": [
       "'--- Bin File created ---'"
      ]
     },
     "execution_count": 137,
     "metadata": {},
     "output_type": "execute_result"
    }
   ],
   "source": [
    "create_bin_file(indian_labels, path_indian_pines + '/TrainTestMask/01_30_{}_{}4'.format(len(np.unique(indian_labels)), filename_indian))"
   ]
  },
  {
   "cell_type": "code",
   "execution_count": 152,
   "metadata": {},
   "outputs": [
    {
     "data": {
      "text/plain": [
       "0"
      ]
     },
     "execution_count": 152,
     "metadata": {},
     "output_type": "execute_result"
    }
   ],
   "source": [
    "subprocess.call('wine ../MCRF_LVC/MCRF.exe ConfigurationFile.txt', shell = True)"
   ]
  },
  {
   "cell_type": "code",
   "execution_count": 148,
   "metadata": {},
   "outputs": [],
   "source": [
    "indian_dict = {\n",
    "    'pathLabels': './Data/Indian_Pines/Labels/',\n",
    "    'pathTrainTest': './Data/Indian_Pines/TrainTestMask/',\n",
    "    'pathFeatures': './Data/Indian_Pines/Features/',\n",
    "    'nodeTrainingType': 'RandomForestCV',\n",
    "    'nodeTrainingDataPath': './Data/Indian_Pines/NodeTrainerParams_RF/',\n",
    "    'nodeTrainingWeight': 1,\n",
    "    'edgeSpatialTrainingType': 'Potts',\n",
    "    'edgeSpatialTrainingFeatureEngine': 'InteractionDistance',\n",
    "    'edgeSpatialDataFile': './Data/Indian_Pines/TrainEdgePotts.par',\n",
    "    'edgeSpatialConnectivityPath': './Data/Indian_Pines/Connectivity_Spatial/',\n",
    "    'edgeSpatialTrainingWeight': 1,\n",
    "    'inferIterations': 15,\n",
    "    'tileSize': 30000,\n",
    "    'initEpoch': 1,\n",
    "    'sequenceLength': 1\n",
    "}"
   ]
  },
  {
   "cell_type": "code",
   "execution_count": 149,
   "metadata": {},
   "outputs": [
    {
     "data": {
      "text/plain": [
       "dict"
      ]
     },
     "execution_count": 149,
     "metadata": {},
     "output_type": "execute_result"
    }
   ],
   "source": [
    "type(indian_dict)"
   ]
  },
  {
   "cell_type": "code",
   "execution_count": 157,
   "metadata": {},
   "outputs": [],
   "source": [
    "with open('../MCRF_LVC/ConfigurationFile.txt', 'w') as yaml_file:\n",
    "    yaml.dump(indian_dict, yaml_file, default_flow_style = False)\n",
    "\n",
    "yaml_file.close()"
   ]
  },
  {
   "cell_type": "code",
   "execution_count": null,
   "metadata": {},
   "outputs": [],
   "source": []
  }
 ],
 "metadata": {
  "celltoolbar": "Tags",
  "kernelspec": {
   "display_name": "Python 3",
   "language": "python",
   "name": "python3"
  },
  "language_info": {
   "codemirror_mode": {
    "name": "ipython",
    "version": 3
   },
   "file_extension": ".py",
   "mimetype": "text/x-python",
   "name": "python",
   "nbconvert_exporter": "python",
   "pygments_lexer": "ipython3",
   "version": "3.7.1"
  },
  "latex_envs": {
   "LaTeX_envs_menu_present": true,
   "autoclose": true,
   "autocomplete": true,
   "bibliofile": "biblio.bib",
   "cite_by": "apalike",
   "current_citInitial": 1,
   "eqLabelWithNumbers": true,
   "eqNumInitial": 1,
   "hotkeys": {
    "equation": "Ctrl-E",
    "itemize": "Ctrl-I"
   },
   "labels_anchors": false,
   "latex_user_defs": false,
   "report_style_numbering": false,
   "user_envs_cfg": false
  }
 },
 "nbformat": 4,
 "nbformat_minor": 2
}
